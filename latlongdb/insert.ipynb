{
 "cells": [
  {
   "cell_type": "code",
   "execution_count": 1,
   "id": "refined-illustration",
   "metadata": {},
   "outputs": [],
   "source": [
    "import numpy as np\n",
    "from tqdm import tqdm\n",
    "import requests"
   ]
  },
  {
   "cell_type": "code",
   "execution_count": 57,
   "id": "becoming-anime",
   "metadata": {},
   "outputs": [],
   "source": [
    "index = 'test1'\n",
    "samples = 5000\n",
    "batch_size = 10000"
   ]
  },
  {
   "cell_type": "code",
   "execution_count": 3,
   "id": "pleasant-empty",
   "metadata": {},
   "outputs": [],
   "source": [
    "def create_random_point(x0,y0,distance):\n",
    "\n",
    "    \"\"\"\n",
    "    Utility method for simulation of the points\n",
    "    \"\"\"   \n",
    "    r = distance / 111300\n",
    "    u = np.random.uniform(0,1)\n",
    "    v = np.random.uniform(0,1)\n",
    "    w = r * np.sqrt(u)\n",
    "    t = 2 * np.pi * v\n",
    "    x = w * np.cos(t)\n",
    "    x1 = x / np.cos(y0)\n",
    "    y = w * np.sin(t)\n",
    "    return (np.radians(x0 + x1), np.radians(y0 + y))\n",
    "        \n",
    "\n",
    "def create_random_points_around_loc(max_elements,lat1,long1,distance_in_km):\n",
    "\n",
    "    list_of_points= list(tuple())\n",
    "    for x in range(0,max_elements): \n",
    "        latitude2,longitude2 =create_random_point(lat1,long1,distance_in_km*1000)\n",
    "        list_of_points.append((latitude2,longitude2,x))\n",
    "    return list_of_points"
   ]
  },
  {
   "cell_type": "code",
   "execution_count": 58,
   "id": "cathedral-quilt",
   "metadata": {},
   "outputs": [],
   "source": [
    "# Cyberjaya, Malaysia\n",
    "lat, long = 2.950815010581982, 101.62843052319319\n",
    "lat1, long1 = create_random_point(lat, long, 10)\n",
    "random_points = create_random_points_around_loc(samples, lat, long, 10)"
   ]
  },
  {
   "cell_type": "code",
   "execution_count": 59,
   "id": "bright-luther",
   "metadata": {},
   "outputs": [
    {
     "data": {
      "text/plain": [
       "(0.052779605458919375, 1.7728213295101127, 0)"
      ]
     },
     "execution_count": 59,
     "metadata": {},
     "output_type": "execute_result"
    }
   ],
   "source": [
    "random_points[0]"
   ]
  },
  {
   "cell_type": "code",
   "execution_count": 62,
   "id": "solar-bible",
   "metadata": {},
   "outputs": [],
   "source": [
    "!rm -rf db/{index}\n",
    "!rm -rf db/{index}-index"
   ]
  },
  {
   "cell_type": "code",
   "execution_count": null,
   "id": "recorded-facing",
   "metadata": {},
   "outputs": [
    {
     "name": "stderr",
     "output_type": "stream",
     "text": [
      "\r",
      "  0%|          | 0/1 [00:00<?, ?it/s]"
     ]
    }
   ],
   "source": [
    "for i in tqdm(range(0, len(random_points), batch_size)):\n",
    "    b = random_points[i: i + batch_size]\n",
    "    r = []\n",
    "    for k in range(len(b)):\n",
    "        r.append({'lat': b[k][0], 'long': b[k][1], 'no': b[k][2]})\n",
    "    requests.post(f'http://localhost:8080/{index}/insert', json = r)"
   ]
  },
  {
   "cell_type": "code",
   "execution_count": null,
   "id": "knowing-genetics",
   "metadata": {},
   "outputs": [],
   "source": []
  }
 ],
 "metadata": {
  "kernelspec": {
   "display_name": "Python 3",
   "language": "python",
   "name": "python3"
  },
  "language_info": {
   "codemirror_mode": {
    "name": "ipython",
    "version": 3
   },
   "file_extension": ".py",
   "mimetype": "text/x-python",
   "name": "python",
   "nbconvert_exporter": "python",
   "pygments_lexer": "ipython3",
   "version": "3.7.7"
  }
 },
 "nbformat": 4,
 "nbformat_minor": 5
}
