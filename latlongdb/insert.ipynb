{
 "cells": [
  {
   "cell_type": "code",
   "execution_count": 1,
   "id": "refined-illustration",
   "metadata": {},
   "outputs": [],
   "source": [
    "import numpy as np\n",
    "from tqdm import tqdm\n",
    "import requests"
   ]
  },
  {
   "cell_type": "code",
   "execution_count": 66,
   "id": "becoming-anime",
   "metadata": {},
   "outputs": [],
   "source": [
    "index = 'test1'\n",
    "samples = 100\n",
    "batch_size = 10000"
   ]
  },
  {
   "cell_type": "code",
   "execution_count": 3,
   "id": "pleasant-empty",
   "metadata": {},
   "outputs": [],
   "source": [
    "def create_random_point(x0,y0,distance):\n",
    "\n",
    "    \"\"\"\n",
    "    Utility method for simulation of the points\n",
    "    \"\"\"   \n",
    "    r = distance / 111300\n",
    "    u = np.random.uniform(0,1)\n",
    "    v = np.random.uniform(0,1)\n",
    "    w = r * np.sqrt(u)\n",
    "    t = 2 * np.pi * v\n",
    "    x = w * np.cos(t)\n",
    "    x1 = x / np.cos(y0)\n",
    "    y = w * np.sin(t)\n",
    "    return (np.radians(x0 + x1), np.radians(y0 + y))\n",
    "        \n",
    "\n",
    "def create_random_points_around_loc(max_elements,lat1,long1,distance_in_km):\n",
    "\n",
    "    list_of_points= list(tuple())\n",
    "    for x in range(0,max_elements): \n",
    "        latitude2,longitude2 =create_random_point(lat1,long1,distance_in_km*1000)\n",
    "        list_of_points.append((latitude2,longitude2,x))\n",
    "    return list_of_points"
   ]
  },
  {
   "cell_type": "code",
   "execution_count": 67,
   "id": "cathedral-quilt",
   "metadata": {},
   "outputs": [],
   "source": [
    "# Cyberjaya, Malaysia\n",
    "lat, long = 2.950815010581982, 101.62843052319319\n",
    "lat1, long1 = create_random_point(lat, long, 10)\n",
    "random_points = create_random_points_around_loc(samples, lat, long, 10)"
   ]
  },
  {
   "cell_type": "code",
   "execution_count": 68,
   "id": "bright-luther",
   "metadata": {},
   "outputs": [
    {
     "data": {
      "text/plain": [
       "(0.04967605627257294, 1.773975403061679, 0)"
      ]
     },
     "execution_count": 68,
     "metadata": {},
     "output_type": "execute_result"
    }
   ],
   "source": [
    "random_points[0]"
   ]
  },
  {
   "cell_type": "code",
   "execution_count": 69,
   "id": "solar-bible",
   "metadata": {},
   "outputs": [],
   "source": [
    "!rm -rf db/{index}\n",
    "!rm -rf db/{index}-index"
   ]
  },
  {
   "cell_type": "code",
   "execution_count": 70,
   "id": "recorded-facing",
   "metadata": {},
   "outputs": [
    {
     "name": "stderr",
     "output_type": "stream",
     "text": [
      "100%|██████████| 1/1 [00:00<00:00, 23.39it/s]\n"
     ]
    }
   ],
   "source": [
    "for i in tqdm(range(0, len(random_points), batch_size)):\n",
    "    b = random_points[i: i + batch_size]\n",
    "    r = []\n",
    "    for k in range(len(b)):\n",
    "        r.append({'lat': b[k][0], 'long': b[k][1], 'no': b[k][2]})\n",
    "    requests.post(f'http://localhost:8080/{index}/insert', json = r)"
   ]
  },
  {
   "cell_type": "code",
   "execution_count": 74,
   "id": "heated-diagram",
   "metadata": {},
   "outputs": [
    {
     "name": "stdout",
     "output_type": "stream",
     "text": [
      "[{\"distance\":2.7435444445887867,\"lat\":0.051198664647091295,\"long\":1.774057179420072,\"no\":64},{\"distance\":2.908191238826303,\"lat\":0.05152282827772343,\"long\":1.7732942780718577,\"no\":66},{\"distance\":2.9317181243178023,\"lat\":0.05193458662198576,\"long\":1.7739059018276264,\"no\":79}]CPU times: user 4.09 ms, sys: 7.25 ms, total: 11.3 ms\n",
      "Wall time: 201 ms\n"
     ]
    }
   ],
   "source": [
    "%%time\n",
    "\n",
    "!curl --request GET 'http://localhost:8080/test1/query?min_distance=2.0&max_distance=3.4&lat=2.950815010581982&long=101.62843052319319'"
   ]
  },
  {
   "cell_type": "code",
   "execution_count": null,
   "id": "broad-mobile",
   "metadata": {},
   "outputs": [],
   "source": []
  }
 ],
 "metadata": {
  "kernelspec": {
   "display_name": "Python 3",
   "language": "python",
   "name": "python3"
  },
  "language_info": {
   "codemirror_mode": {
    "name": "ipython",
    "version": 3
   },
   "file_extension": ".py",
   "mimetype": "text/x-python",
   "name": "python",
   "nbconvert_exporter": "python",
   "pygments_lexer": "ipython3",
   "version": "3.7.7"
  }
 },
 "nbformat": 4,
 "nbformat_minor": 5
}
