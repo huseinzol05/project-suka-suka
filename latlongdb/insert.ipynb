{
 "cells": [
  {
   "cell_type": "code",
   "execution_count": 1,
   "id": "unlike-brief",
   "metadata": {},
   "outputs": [],
   "source": [
    "import numpy as np\n",
    "from tqdm import tqdm\n",
    "import requests"
   ]
  },
  {
   "cell_type": "code",
   "execution_count": 2,
   "id": "signed-atlanta",
   "metadata": {},
   "outputs": [],
   "source": [
    "index = 'test1'\n",
    "samples = 100000\n",
    "batch_size = 10000"
   ]
  },
  {
   "cell_type": "code",
   "execution_count": 3,
   "id": "frequent-lambda",
   "metadata": {},
   "outputs": [],
   "source": [
    "def create_random_point(x0,y0,distance):\n",
    "\n",
    "    \"\"\"\n",
    "    Utility method for simulation of the points\n",
    "    \"\"\"   \n",
    "    r = distance / 111300\n",
    "    u = np.random.uniform(0,1)\n",
    "    v = np.random.uniform(0,1)\n",
    "    w = r * np.sqrt(u)\n",
    "    t = 2 * np.pi * v\n",
    "    x = w * np.cos(t)\n",
    "    x1 = x / np.cos(y0)\n",
    "    y = w * np.sin(t)\n",
    "    return (np.radians(x0 + x1), np.radians(y0 + y))\n",
    "        \n",
    "\n",
    "def create_random_points_around_loc(max_elements,lat1,long1,distance_in_km):\n",
    "\n",
    "    list_of_points= list(tuple())\n",
    "    for x in range(0,max_elements): \n",
    "        latitude2,longitude2 =create_random_point(lat1,long1,distance_in_km*1000)\n",
    "        list_of_points.append((latitude2,longitude2,x))\n",
    "    return list_of_points"
   ]
  },
  {
   "cell_type": "code",
   "execution_count": 4,
   "id": "respiratory-extension",
   "metadata": {},
   "outputs": [],
   "source": [
    "# Cyberjaya, Malaysia\n",
    "lat, long = 2.950815010581982, 101.62843052319319\n",
    "lat1, long1 = create_random_point(lat, long, 10)\n",
    "random_points = create_random_points_around_loc(samples, lat, long, 10)"
   ]
  },
  {
   "cell_type": "code",
   "execution_count": 5,
   "id": "russian-director",
   "metadata": {},
   "outputs": [
    {
     "data": {
      "text/plain": [
       "(0.0537219817404365, 1.7749398628358728, 0)"
      ]
     },
     "execution_count": 5,
     "metadata": {},
     "output_type": "execute_result"
    }
   ],
   "source": [
    "random_points[0]"
   ]
  },
  {
   "cell_type": "code",
   "execution_count": 6,
   "id": "declared-snapshot",
   "metadata": {},
   "outputs": [],
   "source": [
    "!rm -rf db/{index}"
   ]
  },
  {
   "cell_type": "code",
   "execution_count": 7,
   "id": "raising-jesus",
   "metadata": {},
   "outputs": [
    {
     "name": "stderr",
     "output_type": "stream",
     "text": [
      "100%|██████████| 10/10 [00:01<00:00,  5.60it/s]\n"
     ]
    }
   ],
   "source": [
    "for i in tqdm(range(0, len(random_points), batch_size)):\n",
    "    b = random_points[i: i + batch_size]\n",
    "    r = []\n",
    "    for k in range(len(b)):\n",
    "        r.append({'lat': b[k][0], 'long': b[k][1], 'no': b[k][2]})\n",
    "    requests.post(f'http://localhost:8080/{index}/insert', json = r)"
   ]
  },
  {
   "cell_type": "code",
   "execution_count": null,
   "id": "knowing-given",
   "metadata": {},
   "outputs": [],
   "source": []
  }
 ],
 "metadata": {
  "kernelspec": {
   "display_name": "Python 3",
   "language": "python",
   "name": "python3"
  },
  "language_info": {
   "codemirror_mode": {
    "name": "ipython",
    "version": 3
   },
   "file_extension": ".py",
   "mimetype": "text/x-python",
   "name": "python",
   "nbconvert_exporter": "python",
   "pygments_lexer": "ipython3",
   "version": "3.7.7"
  }
 },
 "nbformat": 4,
 "nbformat_minor": 5
}
