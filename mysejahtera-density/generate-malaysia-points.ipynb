{
 "cells": [
  {
   "cell_type": "code",
   "execution_count": 1,
   "id": "inner-burns",
   "metadata": {},
   "outputs": [
    {
     "name": "stdout",
     "output_type": "stream",
     "text": [
      "--2021-07-02 18:51:50--  https://raw.githubusercontent.com/codeforamerica/click_that_hood/master/public/data/malaysia.geojson\r\n",
      "Resolving raw.githubusercontent.com (raw.githubusercontent.com)... 185.199.111.133, 185.199.110.133, 185.199.109.133, ...\r\n",
      "Connecting to raw.githubusercontent.com (raw.githubusercontent.com)|185.199.111.133|:443... connected.\r\n",
      "HTTP request sent, awaiting response... 200 OK\r\n",
      "Length: 46783 (46K) [text/plain]\r\n",
      "Saving to: ‘malaysia.geojson.1’\r\n",
      "\r\n",
      "\r",
      "malaysia.geojson.1    0%[                    ]       0  --.-KB/s               \r",
      "malaysia.geojson.1  100%[===================>]  45.69K  --.-KB/s    in 0.001s  \r\n",
      "\r\n",
      "2021-07-02 18:51:50 (68.6 MB/s) - ‘malaysia.geojson.1’ saved [46783/46783]\r\n",
      "\r\n"
     ]
    }
   ],
   "source": [
    "!wget https://raw.githubusercontent.com/codeforamerica/click_that_hood/master/public/data/malaysia.geojson"
   ]
  },
  {
   "cell_type": "code",
   "execution_count": 1,
   "id": "activated-durham",
   "metadata": {},
   "outputs": [],
   "source": [
    "# !pip3 install bokeh distributed dask"
   ]
  },
  {
   "cell_type": "code",
   "execution_count": 2,
   "id": "economic-humor",
   "metadata": {},
   "outputs": [],
   "source": [
    "import json\n",
    "import geojson\n",
    "import requests\n",
    "import re\n",
    "import os\n",
    "import numpy as np\n",
    "import dask.array as da\n",
    "import dask.dataframe as dd\n",
    "from shapely.geometry import mapping, shape, MultiPoint\n",
    "from shapely.ops import cascaded_union"
   ]
  },
  {
   "cell_type": "code",
   "execution_count": 3,
   "id": "faced-dublin",
   "metadata": {},
   "outputs": [
    {
     "data": {
      "text/html": [
       "<table style=\"border: 2px solid white;\">\n",
       "<tr>\n",
       "<td style=\"vertical-align: top; border: 0px solid white\">\n",
       "<h3 style=\"text-align: left;\">Client</h3>\n",
       "<ul style=\"text-align: left; list-style: none; margin: 0; padding: 0;\">\n",
       "  <li><b>Scheduler: </b>tcp://127.0.0.1:36453</li>\n",
       "  <li><b>Dashboard: </b><a href='http://127.0.0.1:8787/status' target='_blank'>http://127.0.0.1:8787/status</a></li>\n",
       "</ul>\n",
       "</td>\n",
       "<td style=\"vertical-align: top; border: 0px solid white\">\n",
       "<h3 style=\"text-align: left;\">Cluster</h3>\n",
       "<ul style=\"text-align: left; list-style:none; margin: 0; padding: 0;\">\n",
       "  <li><b>Workers: </b>16</li>\n",
       "  <li><b>Cores: </b>16</li>\n",
       "  <li><b>Memory: </b>31.36 GiB</li>\n",
       "</ul>\n",
       "</td>\n",
       "</tr>\n",
       "</table>"
      ],
      "text/plain": [
       "<Client: 'tcp://127.0.0.1:36453' processes=16 threads=16, memory=31.36 GiB>"
      ]
     },
     "execution_count": 3,
     "metadata": {},
     "output_type": "execute_result"
    }
   ],
   "source": [
    "from dask.distributed import Client, progress\n",
    "client = Client(n_workers = 16)\n",
    "client"
   ]
  },
  {
   "cell_type": "code",
   "execution_count": 4,
   "id": "medium-chemical",
   "metadata": {},
   "outputs": [],
   "source": [
    "with open('malaysia.geojson') as fopen:\n",
    "    malaysia = json.load(fopen)"
   ]
  },
  {
   "cell_type": "code",
   "execution_count": 5,
   "id": "declared-drain",
   "metadata": {},
   "outputs": [
    {
     "data": {
      "text/plain": [
       "dict_keys(['Federal Territory of Kuala Lumpur', 'Perlis', 'Sabah', 'Federal Territory of Putrajaya', 'Kedah', 'Sarawak', 'Penang', 'Johor', 'Kelantan', 'Melaka', 'Negeri Sembilan', 'Pahang', 'Perak', 'Selangor', 'Terengganu'])"
      ]
     },
     "execution_count": 5,
     "metadata": {},
     "output_type": "execute_result"
    }
   ],
   "source": [
    "negeri = {k['properties']['name']:k['geometry'] for k in malaysia['features']}\n",
    "negeri.keys()"
   ]
  },
  {
   "cell_type": "code",
   "execution_count": 7,
   "id": "random-tobago",
   "metadata": {},
   "outputs": [],
   "source": [
    "# data from TindakMalaysia is more precise for these states\n",
    "\n",
    "download = {\n",
    "    'Kedah': 'https://raw.githubusercontent.com/TindakMalaysia/Kedah-Maps/master/2016/MAP/MIGRATED/result/02-Kedah-New-DM-4326.geojson',\n",
    "    'Pahang': 'https://raw.githubusercontent.com/TindakMalaysia/Pahang-Maps/master/2016/MAP/MIGRATED/result/07-Pahang-New-DM-4326.geojson',\n",
    "    'Johor': 'https://raw.githubusercontent.com/TindakMalaysia/Johor-Maps/master/2016/MAP/MIGRATED/result/13-Johor-New-DM-4326.geojson',\n",
    "    'Perak': 'https://raw.githubusercontent.com/TindakMalaysia/Perak-Maps/master/2016/MAP/MIGRATED/result/06-Perak-New-DM-4326.geojson',\n",
    "    'Labuan': 'https://raw.githubusercontent.com/TindakMalaysia/Federal-Territories-Maps/master/LABUAN/2016/MAP/MIGRATED/result/14-Labuan-New-DM-4326.geojson',\n",
    "    'Terengganu': 'https://raw.githubusercontent.com/TindakMalaysia/Terengganu-Maps/master/2016/MAP/MIGRATED/result/04-Terengganu-New-DM-4326.geojson'\n",
    "}"
   ]
  },
  {
   "cell_type": "code",
   "execution_count": 8,
   "id": "korean-missouri",
   "metadata": {},
   "outputs": [],
   "source": [
    "for k, v in download.items():\n",
    "    os.system(f'wget {v}')"
   ]
  },
  {
   "cell_type": "code",
   "execution_count": 9,
   "id": "interim-ordinance",
   "metadata": {},
   "outputs": [],
   "source": [
    "def check(df):\n",
    "    points = MultiPoint(df.values)\n",
    "    try:\n",
    "        ls = list(points.intersection(polygon))\n",
    "        return [(l.x, l.y) for l in ls]\n",
    "    except Exception as e:\n",
    "        return []"
   ]
  },
  {
   "cell_type": "code",
   "execution_count": 10,
   "id": "failing-sending",
   "metadata": {},
   "outputs": [],
   "source": [
    "# !mkdir data"
   ]
  },
  {
   "cell_type": "code",
   "execution_count": 11,
   "id": "6e49373e",
   "metadata": {},
   "outputs": [],
   "source": [
    "# meters = 1000\n",
    "# earth = 6378.137\n",
    "# pi = np.pi\n",
    "# cos = np.cos\n",
    "# m = (1 / ((2 * pi / 360) * earth)) / 1000\n",
    "# default_resolution = meters * m\n",
    "# default_resolution\n",
    "\n",
    "default_resolution = 0.003\n",
    "resolutions = {'Sabah': 0.005, 'Sarawak': 0.006, 'Pahang': 0.005}"
   ]
  },
  {
   "cell_type": "code",
   "execution_count": 12,
   "id": "forced-pharmacy",
   "metadata": {
    "scrolled": true
   },
   "outputs": [
    {
     "name": "stdout",
     "output_type": "stream",
     "text": [
      "Federal Territory of Kuala Lumpur\n",
      "Federal Territory of Kuala Lumpur 2139\n",
      "Perlis\n",
      "Perlis 7384\n",
      "Sabah\n",
      "Sabah 240019\n",
      "Federal Territory of Putrajaya\n",
      "Federal Territory of Putrajaya 404\n",
      "Kedah\n",
      "02-Kedah-New-DM-4326.geojson\n",
      "Kedah 87668\n",
      "Sarawak\n",
      "Sarawak 280730\n",
      "Penang\n",
      "Penang 9342\n",
      "Johor\n",
      "13-Johor-New-DM-4326.geojson\n",
      "Johor 172104\n",
      "Kelantan\n",
      "Kelantan 136278\n",
      "Melaka\n",
      "Melaka 15057\n",
      "Negeri Sembilan\n",
      "Negeri Sembilan 60293\n",
      "Pahang\n",
      "07-Pahang-New-DM-4326.geojson\n",
      "Pahang 345939\n",
      "Perak\n",
      "06-Perak-New-DM-4326.geojson\n"
     ]
    },
    {
     "name": "stderr",
     "output_type": "stream",
     "text": [
      "distributed.utils_perf - WARNING - full garbage collections took 13% CPU time recently (threshold: 10%)\n",
      "distributed.utils_perf - WARNING - full garbage collections took 14% CPU time recently (threshold: 10%)\n",
      "distributed.utils_perf - WARNING - full garbage collections took 13% CPU time recently (threshold: 10%)\n",
      "distributed.utils_perf - WARNING - full garbage collections took 14% CPU time recently (threshold: 10%)\n"
     ]
    },
    {
     "name": "stdout",
     "output_type": "stream",
     "text": [
      "Perak 189375\n",
      "Selangor\n"
     ]
    },
    {
     "name": "stderr",
     "output_type": "stream",
     "text": [
      "distributed.utils_perf - WARNING - full garbage collections took 13% CPU time recently (threshold: 10%)\n",
      "distributed.utils_perf - WARNING - full garbage collections took 13% CPU time recently (threshold: 10%)\n"
     ]
    },
    {
     "name": "stdout",
     "output_type": "stream",
     "text": [
      "Selangor 70600\n"
     ]
    },
    {
     "name": "stderr",
     "output_type": "stream",
     "text": [
      "distributed.utils_perf - WARNING - full garbage collections took 13% CPU time recently (threshold: 10%)\n"
     ]
    },
    {
     "name": "stdout",
     "output_type": "stream",
     "text": [
      "Terengganu\n",
      "04-Terengganu-New-DM-4326.geojson\n"
     ]
    },
    {
     "name": "stderr",
     "output_type": "stream",
     "text": [
      "distributed.utils_perf - WARNING - full garbage collections took 12% CPU time recently (threshold: 10%)\n",
      "distributed.utils_perf - WARNING - full garbage collections took 13% CPU time recently (threshold: 10%)\n",
      "distributed.utils_perf - WARNING - full garbage collections took 13% CPU time recently (threshold: 10%)\n"
     ]
    },
    {
     "name": "stdout",
     "output_type": "stream",
     "text": [
      "Terengganu 117432\n",
      "Labuan\n",
      "14-Labuan-New-DM-4326.geojson\n",
      "Labuan 938\n"
     ]
    }
   ],
   "source": [
    "negeris = list(negeri.keys()) + ['Labuan']\n",
    "for k in negeris:\n",
    "        \n",
    "    print(k)\n",
    "    if k in download:\n",
    "        print(download[k].split('/')[-1])\n",
    "        with open(download[k].split('/')[-1]) as fopen:\n",
    "            data = json.load(fopen)\n",
    "\n",
    "        state = []\n",
    "        for d in data['features']:\n",
    "            d = d['geometry']\n",
    "            g = geojson.loads(json.dumps(d))\n",
    "            polygon = shape(g)\n",
    "            state.append(polygon)\n",
    "        polygon = cascaded_union(state)\n",
    "    else:\n",
    "        s = json.dumps(negeri[k])\n",
    "        g1 = geojson.loads(s)\n",
    "        polygon = shape(g1)\n",
    "    latmin, lonmin, latmax, lonmax = polygon.bounds \n",
    "    resolution = resolutions.get(k, default_resolution)\n",
    "    lat_arange = da.arange(latmin, latmax, resolution)\n",
    "    lon_arange = da.arange(lonmin, lonmax, resolution)\n",
    "    x, y = da.meshgrid(lat_arange, lon_arange)\n",
    "    x = da.round(x, 8)\n",
    "    y = da.round(y, 8)\n",
    "    x = da.reshape(x, (-1, 1))\n",
    "    y = da.reshape(y, (-1, 1))\n",
    "    concated = da.concatenate([x, y], axis = 1)\n",
    "    df = dd.from_array(concated)\n",
    "    df = df.repartition(npartitions = 100)\n",
    "    check_partitions = df.map_partitions(check, meta=object)\n",
    "    check_partitions = check_partitions.compute()\n",
    "    inside = []\n",
    "    for p in check_partitions:\n",
    "        inside.extend(p)\n",
    "\n",
    "    print(k, len(inside))\n",
    "    with open(f'data/{k}-points.json', 'w') as fopen:\n",
    "        json.dump(inside, fopen)"
   ]
  },
  {
   "cell_type": "code",
   "execution_count": null,
   "id": "949195eb",
   "metadata": {},
   "outputs": [],
   "source": []
  }
 ],
 "metadata": {
  "kernelspec": {
   "display_name": "Python 3",
   "language": "python",
   "name": "python3"
  },
  "language_info": {
   "codemirror_mode": {
    "name": "ipython",
    "version": 3
   },
   "file_extension": ".py",
   "mimetype": "text/x-python",
   "name": "python",
   "nbconvert_exporter": "python",
   "pygments_lexer": "ipython3",
   "version": "3.7.10"
  }
 },
 "nbformat": 4,
 "nbformat_minor": 5
}
