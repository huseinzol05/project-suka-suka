{
 "cells": [
  {
   "cell_type": "code",
   "execution_count": 1,
   "id": "inner-burns",
   "metadata": {},
   "outputs": [],
   "source": [
    "# !wget https://raw.githubusercontent.com/codeforamerica/click_that_hood/master/public/data/malaysia.geojson"
   ]
  },
  {
   "cell_type": "code",
   "execution_count": 2,
   "id": "activated-durham",
   "metadata": {},
   "outputs": [],
   "source": [
    "# !pip3 install bokeh distributed dask"
   ]
  },
  {
   "cell_type": "code",
   "execution_count": 3,
   "id": "economic-humor",
   "metadata": {},
   "outputs": [],
   "source": [
    "import json\n",
    "import geojson\n",
    "import requests\n",
    "import re\n",
    "import numpy as np\n",
    "import dask.array as da\n",
    "import dask.dataframe as dd\n",
    "from shapely.geometry import mapping, shape, MultiPoint"
   ]
  },
  {
   "cell_type": "code",
   "execution_count": 4,
   "id": "faced-dublin",
   "metadata": {},
   "outputs": [
    {
     "data": {
      "text/html": [
       "<table style=\"border: 2px solid white;\">\n",
       "<tr>\n",
       "<td style=\"vertical-align: top; border: 0px solid white\">\n",
       "<h3 style=\"text-align: left;\">Client</h3>\n",
       "<ul style=\"text-align: left; list-style: none; margin: 0; padding: 0;\">\n",
       "  <li><b>Scheduler: </b>tcp://127.0.0.1:57557</li>\n",
       "  <li><b>Dashboard: </b><a href='http://127.0.0.1:8787/status' target='_blank'>http://127.0.0.1:8787/status</a></li>\n",
       "</ul>\n",
       "</td>\n",
       "<td style=\"vertical-align: top; border: 0px solid white\">\n",
       "<h3 style=\"text-align: left;\">Cluster</h3>\n",
       "<ul style=\"text-align: left; list-style:none; margin: 0; padding: 0;\">\n",
       "  <li><b>Workers: </b>4</li>\n",
       "  <li><b>Cores: </b>8</li>\n",
       "  <li><b>Memory: </b>16.00 GiB</li>\n",
       "</ul>\n",
       "</td>\n",
       "</tr>\n",
       "</table>"
      ],
      "text/plain": [
       "<Client: 'tcp://127.0.0.1:57557' processes=4 threads=8, memory=16.00 GiB>"
      ]
     },
     "execution_count": 4,
     "metadata": {},
     "output_type": "execute_result"
    }
   ],
   "source": [
    "from dask.distributed import Client, progress\n",
    "client = Client()\n",
    "client"
   ]
  },
  {
   "cell_type": "code",
   "execution_count": 6,
   "id": "medium-chemical",
   "metadata": {},
   "outputs": [],
   "source": [
    "with open('malaysia.geojson') as fopen:\n",
    "    malaysia = json.load(fopen)"
   ]
  },
  {
   "cell_type": "code",
   "execution_count": 7,
   "id": "declared-drain",
   "metadata": {},
   "outputs": [
    {
     "data": {
      "text/plain": [
       "dict_keys(['Federal Territory of Kuala Lumpur', 'Perlis', 'Sabah', 'Federal Territory of Putrajaya', 'Kedah', 'Sarawak', 'Penang', 'Johor', 'Kelantan', 'Melaka', 'Negeri Sembilan', 'Pahang', 'Perak', 'Selangor', 'Terengganu'])"
      ]
     },
     "execution_count": 7,
     "metadata": {},
     "output_type": "execute_result"
    }
   ],
   "source": [
    "negeri = {k['properties']['name']:k['geometry'] for k in malaysia['features']}\n",
    "negeri.keys()"
   ]
  },
  {
   "cell_type": "code",
   "execution_count": 8,
   "id": "interim-ordinance",
   "metadata": {},
   "outputs": [],
   "source": [
    "def check(df):\n",
    "    points = MultiPoint(df.values)\n",
    "    try:\n",
    "        ls = list(points.intersection(polygon))\n",
    "        return [(l.x, l.y) for l in ls]\n",
    "    except:\n",
    "        return []"
   ]
  },
  {
   "cell_type": "code",
   "execution_count": null,
   "id": "failing-sending",
   "metadata": {},
   "outputs": [],
   "source": [
    "!mkdir data"
   ]
  },
  {
   "cell_type": "code",
   "execution_count": 10,
   "id": "forced-pharmacy",
   "metadata": {},
   "outputs": [
    {
     "name": "stdout",
     "output_type": "stream",
     "text": [
      "Federal Territory of Kuala Lumpur\n",
      "Federal Territory of Kuala Lumpur 767\n",
      "Perlis\n",
      "Perlis 2668\n",
      "Sabah\n",
      "Sabah 240019\n",
      "Federal Territory of Putrajaya\n",
      "Federal Territory of Putrajaya 131\n",
      "Kedah\n",
      "Kedah 29459\n",
      "Sarawak\n",
      "Sarawak 404284\n",
      "Penang\n",
      "Penang 3364\n",
      "Johor\n",
      "Johor 61615\n",
      "Kelantan\n",
      "Kelantan 49052\n",
      "Melaka\n",
      "Melaka 5422\n",
      "Negeri Sembilan\n",
      "Negeri Sembilan 21704\n",
      "Pahang\n",
      "Pahang 116876\n",
      "Perak\n",
      "Perak 68097\n",
      "Selangor\n",
      "Selangor 25428\n",
      "Terengganu\n",
      "Terengganu 42032\n"
     ]
    }
   ],
   "source": [
    "resolution = 0.005\n",
    "for k in negeri:\n",
    "    print(k)\n",
    "    s = json.dumps(negeri[k])\n",
    "    g1 = geojson.loads(s)\n",
    "    polygon = shape(g1)\n",
    "    latmin, lonmin, latmax, lonmax = polygon.bounds \n",
    "    lat_arange = da.arange(latmin, latmax, resolution)\n",
    "    lon_arange = da.arange(lonmin, lonmax, resolution)\n",
    "    x, y = da.meshgrid(lat_arange, lon_arange)\n",
    "    x = da.round(x, 6)\n",
    "    y = da.round(y, 6)\n",
    "    x = da.reshape(x, (-1, 1))\n",
    "    y = da.reshape(y, (-1, 1))\n",
    "    concated = da.concatenate([x, y], axis = 1)\n",
    "    df = dd.from_array(concated)\n",
    "    df = df.repartition(npartitions = 100)\n",
    "    check_partitions = df.map_partitions(check, meta=object)\n",
    "    check_partitions = check_partitions.compute()\n",
    "    inside = []\n",
    "    for p in check_partitions:\n",
    "        inside.extend(p)\n",
    "\n",
    "    print(k, len(inside))\n",
    "    with open(f'data/{k}-points.json', 'w') as fopen:\n",
    "        json.dump(inside, fopen)"
   ]
  },
  {
   "cell_type": "code",
   "execution_count": null,
   "id": "criminal-fields",
   "metadata": {},
   "outputs": [],
   "source": []
  }
 ],
 "metadata": {
  "kernelspec": {
   "display_name": "Python 3",
   "language": "python",
   "name": "python3"
  },
  "language_info": {
   "codemirror_mode": {
    "name": "ipython",
    "version": 3
   },
   "file_extension": ".py",
   "mimetype": "text/x-python",
   "name": "python",
   "nbconvert_exporter": "python",
   "pygments_lexer": "ipython3",
   "version": "3.7.7"
  }
 },
 "nbformat": 4,
 "nbformat_minor": 5
}
