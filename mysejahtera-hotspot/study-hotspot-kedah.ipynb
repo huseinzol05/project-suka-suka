{
 "cells": [
  {
   "cell_type": "code",
   "execution_count": 1,
   "id": "98b1f952",
   "metadata": {},
   "outputs": [],
   "source": [
    "# !wget https://raw.githubusercontent.com/huseinzol05/project-suka-suka/main/mysejahtera-density/data/Kedah-points.json-points-cases.json\n",
    "# https://pysal.org/esda/notebooks/adbscan_berlin_example.html"
   ]
  },
  {
   "cell_type": "code",
   "execution_count": 2,
   "id": "24516e40",
   "metadata": {},
   "outputs": [
    {
     "name": "stderr",
     "output_type": "stream",
     "text": [
      "/usr/lib/python3/dist-packages/requests/__init__.py:80: RequestsDependencyWarning: urllib3 (1.22) or chardet (4.0.0) doesn't match a supported version!\n",
      "  RequestsDependencyWarning)\n"
     ]
    }
   ],
   "source": [
    "import json\n",
    "import pandas as pd\n",
    "import geopandas\n",
    "from shapely.geometry import Point\n",
    "from geopandas import GeoDataFrame\n",
    "import libpysal as lps\n",
    "import numpy as np\n",
    "import contextily as cx"
   ]
  },
  {
   "cell_type": "code",
   "execution_count": 3,
   "id": "1945f2eb",
   "metadata": {},
   "outputs": [],
   "source": [
    "import warnings\n",
    "import pandas\n",
    "import numpy as np\n",
    "from libpysal.cg.alpha_shapes import alpha_shape_auto\n",
    "from scipy.spatial import cKDTree\n",
    "from collections import Counter\n",
    "from sklearn.cluster import DBSCAN\n",
    "from sklearn.neighbors import KNeighborsClassifier\n",
    "from sklearn.base import BaseEstimator as _BaseEstimator, ClusterMixin as _ClusterMixin"
   ]
  },
  {
   "cell_type": "code",
   "execution_count": 4,
   "id": "82d57fa4",
   "metadata": {},
   "outputs": [
    {
     "data": {
      "text/html": [
       "<div>\n",
       "<style scoped>\n",
       "    .dataframe tbody tr th:only-of-type {\n",
       "        vertical-align: middle;\n",
       "    }\n",
       "\n",
       "    .dataframe tbody tr th {\n",
       "        vertical-align: top;\n",
       "    }\n",
       "\n",
       "    .dataframe thead th {\n",
       "        text-align: right;\n",
       "    }\n",
       "</style>\n",
       "<table border=\"1\" class=\"dataframe\">\n",
       "  <thead>\n",
       "    <tr style=\"text-align: right;\">\n",
       "      <th></th>\n",
       "      <th>0</th>\n",
       "      <th>1</th>\n",
       "      <th>2</th>\n",
       "    </tr>\n",
       "  </thead>\n",
       "  <tbody>\n",
       "    <tr>\n",
       "      <th>0</th>\n",
       "      <td>5.088469</td>\n",
       "      <td>100.531476</td>\n",
       "      <td>0</td>\n",
       "    </tr>\n",
       "    <tr>\n",
       "      <th>1</th>\n",
       "      <td>5.084469</td>\n",
       "      <td>100.547476</td>\n",
       "      <td>0</td>\n",
       "    </tr>\n",
       "    <tr>\n",
       "      <th>2</th>\n",
       "      <td>5.080469</td>\n",
       "      <td>100.551476</td>\n",
       "      <td>0</td>\n",
       "    </tr>\n",
       "    <tr>\n",
       "      <th>3</th>\n",
       "      <td>5.080469</td>\n",
       "      <td>100.555476</td>\n",
       "      <td>0</td>\n",
       "    </tr>\n",
       "    <tr>\n",
       "      <th>4</th>\n",
       "      <td>5.084469</td>\n",
       "      <td>100.555476</td>\n",
       "      <td>0</td>\n",
       "    </tr>\n",
       "  </tbody>\n",
       "</table>\n",
       "</div>"
      ],
      "text/plain": [
       "          0           1  2\n",
       "0  5.088469  100.531476  0\n",
       "1  5.084469  100.547476  0\n",
       "2  5.080469  100.551476  0\n",
       "3  5.080469  100.555476  0\n",
       "4  5.084469  100.555476  0"
      ]
     },
     "execution_count": 4,
     "metadata": {},
     "output_type": "execute_result"
    }
   ],
   "source": [
    "with open('Kedah-points.json-points-cases.json') as fopen:\n",
    "    data = json.load(fopen)\n",
    "    \n",
    "df = pd.DataFrame(data)\n",
    "df.head()"
   ]
  },
  {
   "cell_type": "code",
   "execution_count": 5,
   "id": "bb770fc6",
   "metadata": {},
   "outputs": [
    {
     "data": {
      "text/plain": [
       "array([  1.  ,   1.  ,   1.  ,   1.  ,   1.  ,   1.  ,   1.  ,   1.  ,\n",
       "         1.  ,   2.  ,   2.  ,   3.  ,   3.  ,   4.  ,   4.  ,   5.  ,\n",
       "         7.  ,   9.  ,  12.  ,  20.85, 167.  ])"
      ]
     },
     "execution_count": 5,
     "metadata": {},
     "output_type": "execute_result"
    }
   ],
   "source": [
    "nonzero = df[2][df[2] > 0]\n",
    "step = 0.05\n",
    "arange = np.arange(0, 1.0 + step, step = step)\n",
    "percentiles = np.percentile(nonzero, arange * 100)\n",
    "percentiles"
   ]
  },
  {
   "cell_type": "code",
   "execution_count": 6,
   "id": "e1460967",
   "metadata": {
    "scrolled": true
   },
   "outputs": [
    {
     "data": {
      "text/plain": [
       "[[1, 1],\n",
       " [1, 1],\n",
       " [1, 1],\n",
       " [1, 1],\n",
       " [1, 1],\n",
       " [1, 1],\n",
       " [1, 1],\n",
       " [1, 1],\n",
       " [1, 2],\n",
       " [2, 2],\n",
       " [2, 3],\n",
       " [3, 3],\n",
       " [3, 4],\n",
       " [4, 4],\n",
       " [4, 5],\n",
       " [5, 7],\n",
       " [7, 9],\n",
       " [9, 12],\n",
       " [12, 20],\n",
       " [20, 168]]"
      ]
     },
     "execution_count": 6,
     "metadata": {},
     "output_type": "execute_result"
    }
   ],
   "source": [
    "boundaries = [percentiles[i: i + 2].tolist() for i in range(len(percentiles))][:-1]\n",
    "boundaries = [[int(i[0]), int(i[1])] for i in boundaries]\n",
    "boundaries[-1][-1] += 1\n",
    "boundaries"
   ]
  },
  {
   "cell_type": "code",
   "execution_count": 7,
   "id": "cab6ba2f",
   "metadata": {},
   "outputs": [
    {
     "name": "stderr",
     "output_type": "stream",
     "text": [
      "/home/ubuntu/.local/lib/python3.7/site-packages/pyproj/crs/crs.py:68: FutureWarning: '+init=<authority>:<code>' syntax is deprecated. '<authority>:<code>' is the preferred initialization method. When making the change, be mindful of axis order changes: https://pyproj4.github.io/pyproj/stable/gotchas.html#axis-order-changes-in-proj-6\n",
      "  return _prepare_from_string(\" \".join(pjargs))\n"
     ]
    },
    {
     "data": {
      "image/png": "[encoded data removed]",
      "text/plain": [
       "<Figure size 432x288 with 1 Axes>"
      ]
     },
     "metadata": {
      "needs_background": "light"
     },
     "output_type": "display_data"
    }
   ],
   "source": [
    "geometry = [Point(xy) for xy in zip(df[0], df[1])]\n",
    "crs = {'init': 'epsg:4326'}\n",
    "bl_gdf = GeoDataFrame(df, crs=crs, geometry=geopandas.points_from_xy(df[1], df[0]))\n",
    "db = bl_gdf.to_crs(epsg=5243)\n",
    "db.to_crs('crs').plot(markersize=0.1, color='orange')\n",
    "db[\"X\"] = db.geometry.x\n",
    "db[\"Y\"] = db.geometry.y"
   ]
  },
  {
   "cell_type": "code",
   "execution_count": 8,
   "id": "68d0a344",
   "metadata": {},
   "outputs": [],
   "source": [
    "from libpysal.cg.alpha_shapes import alpha_shape_auto\n",
    "\n",
    "def get_cluster_boundary(labels, xys, scores, xy=[\"X\", \"Y\"], crs=None, step=1):\n",
    "    try:\n",
    "        from geopandas import GeoSeries\n",
    "    except ModuleNotFoundError:\n",
    "\n",
    "        def GeoSeries(data, index=None, crs=None):\n",
    "            return list(data)\n",
    "\n",
    "    lbl_type = type(labels.iloc[0])\n",
    "    noise = lbl_type(-1)\n",
    "    ids_in_cluster = labels[labels != noise].index\n",
    "    g = xys.loc[ids_in_cluster, xy].groupby(labels[ids_in_cluster])\n",
    "    polys = []\n",
    "    cluster_lbls = []\n",
    "    y, totals = [], []\n",
    "    for sub in g.groups:\n",
    "        try:\n",
    "            polys.append(_asa((xys.loc[g.groups[sub], xy].values, 1)))\n",
    "            y.append(scores.loc[g.groups[sub]].mean())\n",
    "            totals.append(scores.loc[g.groups[sub]].shape[0])\n",
    "            cluster_lbls.append(sub)\n",
    "        except:\n",
    "            pass\n",
    "    polys = GeoSeries(polys, index=cluster_lbls, crs=crs)\n",
    "    return polys, y, totals\n",
    "\n",
    "\n",
    "def _asa(pts_s):\n",
    "    return alpha_shape_auto(pts_s[0], step=pts_s[1])"
   ]
  },
  {
   "cell_type": "code",
   "execution_count": 9,
   "id": "2c487561",
   "metadata": {
    "scrolled": false
   },
   "outputs": [
    {
     "name": "stdout",
     "output_type": "stream",
     "text": [
      "0 [1, 1]\n",
      "1 [1, 1]\n",
      "2 [1, 1]\n",
      "3 [1, 1]\n",
      "4 [1, 1]\n",
      "5 [1, 1]\n",
      "6 [1, 1]\n",
      "7 [1, 1]\n",
      "8 [1, 2]\n",
      "[ -1   0   1   2   3   4   5   6   7   8   9  10  11  12  13  14  15  16\n",
      "  17  18  19  20  21  22  23  24  25  26  27  28  29  30  31  32  33  34\n",
      "  35  36  37  38  39  40  41  42  43  44  45  46  47  48  49  50  51  52\n",
      "  53  54  55  56  57  58  59  60  61  62  63  64  65  66  67  68  69  70\n",
      "  71  72  73  74  75  76  77  78  79  80  81  82  83  84  85  86  87  88\n",
      "  89  90  91  92  93  94  95  96  97  98  99 100 101 102 103 104 105 106\n",
      " 107 108 109 110 111 112 113 114 115 116 117 118 119 120 121 122 123 124\n",
      " 125 126 127 128 129 130 131 132 133 134 135 136 137 138 139 140 141 142\n",
      " 143 144 145 146 147 148 149 150 151 152 153 154 155 156 157 158 159 160\n",
      " 161 162 163 164 165 166 167 168 169 170 171 172 173 174 175 176 177 178\n",
      " 179 180 181 182 183 184 185 186 187 188 189 190 191 192 193 194 195 196\n",
      " 197 198 199 200 201 202 203 204 205 206 207 208 209 210 211 212]\n"
     ]
    },
    {
     "name": "stderr",
     "output_type": "stream",
     "text": [
      "/home/ubuntu/.local/lib/python3.7/site-packages/libpysal/cg/alpha_shapes.py:574: UserWarning: Numba not imported, so alpha shape construction may be slower than expected.\n",
      "  warn(NUMBA_WARN)\n",
      "/home/ubuntu/.local/lib/python3.7/site-packages/libpysal/cg/alpha_shapes.py:117: RuntimeWarning: invalid value encountered in sqrt\n",
      "  den = np.sqrt((ab + bc + ca) * (bc + ca - ab) * (ca + ab - bc) * (ab + bc - ca))\n"
     ]
    },
    {
     "name": "stdout",
     "output_type": "stream",
     "text": [
      "9 [2, 2]\n",
      "10 [2, 3]\n",
      "[-1  0  1  2  3  4  5  6  7  8  9 10 11 12 13 14 15 16 17 18 19 20 21 22\n",
      " 23 24 25 26 27 28 29 30 31 32 33 34 35 36 37 38 39 40 41 42 43 44 45 46\n",
      " 47 48 49 50 51 52 53 54 55 56 57 58 59 60 61 62 63 64 65 66 67 68 69 70\n",
      " 71 72 73 74 75 76 77 78 79 80 81 82 83 84 85 86 87 88 89 90 91 92]\n"
     ]
    },
    {
     "name": "stderr",
     "output_type": "stream",
     "text": [
      "/home/ubuntu/.local/lib/python3.7/site-packages/libpysal/cg/alpha_shapes.py:574: UserWarning: Numba not imported, so alpha shape construction may be slower than expected.\n",
      "  warn(NUMBA_WARN)\n",
      "/home/ubuntu/.local/lib/python3.7/site-packages/libpysal/cg/alpha_shapes.py:117: RuntimeWarning: invalid value encountered in sqrt\n",
      "  den = np.sqrt((ab + bc + ca) * (bc + ca - ab) * (ca + ab - bc) * (ab + bc - ca))\n",
      "/home/ubuntu/.local/lib/python3.7/site-packages/libpysal/cg/alpha_shapes.py:628: RuntimeWarning: divide by zero encountered in double_scalars\n",
      "  alpha = (1 / radi) - EPS\n"
     ]
    },
    {
     "name": "stdout",
     "output_type": "stream",
     "text": [
      "11 [3, 3]\n",
      "12 [3, 4]\n",
      "[-1  0  1  2  3  4  5  6  7  8  9 10 11 12 13 14 15 16 17 18 19 20 21 22\n",
      " 23 24 25 26 27 28 29 30 31 32 33 34 35 36 37 38 39 40 41 42 43 44 45 46\n",
      " 47 48 49 50 51 52 53 54 55 56 57 58 59 60 61 62 63 64 65 66 67 68 69 70]\n"
     ]
    },
    {
     "name": "stderr",
     "output_type": "stream",
     "text": [
      "/home/ubuntu/.local/lib/python3.7/site-packages/libpysal/cg/alpha_shapes.py:574: UserWarning: Numba not imported, so alpha shape construction may be slower than expected.\n",
      "  warn(NUMBA_WARN)\n",
      "/home/ubuntu/.local/lib/python3.7/site-packages/libpysal/cg/alpha_shapes.py:117: RuntimeWarning: invalid value encountered in sqrt\n",
      "  den = np.sqrt((ab + bc + ca) * (bc + ca - ab) * (ca + ab - bc) * (ab + bc - ca))\n"
     ]
    },
    {
     "name": "stdout",
     "output_type": "stream",
     "text": [
      "13 [4, 4]\n",
      "14 [4, 5]\n",
      "[-1  0  1  2  3  4  5  6  7  8  9 10 11 12 13 14 15 16 17 18 19 20 21 22\n",
      " 23 24 25 26 27 28 29 30 31 32 33 34 35 36 37 38 39 40 41 42 43 44 45 46\n",
      " 47 48 49 50]\n"
     ]
    },
    {
     "name": "stderr",
     "output_type": "stream",
     "text": [
      "/home/ubuntu/.local/lib/python3.7/site-packages/libpysal/cg/alpha_shapes.py:574: UserWarning: Numba not imported, so alpha shape construction may be slower than expected.\n",
      "  warn(NUMBA_WARN)\n"
     ]
    },
    {
     "name": "stdout",
     "output_type": "stream",
     "text": [
      "15 [5, 7]\n",
      "[-1  0  1  2  3  4  5  6  7  8  9 10 11 12 13 14 15 16 17 18 19 20 21 22\n",
      " 23 24 25 26 27 28 29 30 31 32 33 34 35 36 37 38 39 40 41 42 43 44 45 46\n",
      " 47 48 49 50 51 52 53]\n"
     ]
    },
    {
     "name": "stderr",
     "output_type": "stream",
     "text": [
      "/home/ubuntu/.local/lib/python3.7/site-packages/libpysal/cg/alpha_shapes.py:574: UserWarning: Numba not imported, so alpha shape construction may be slower than expected.\n",
      "  warn(NUMBA_WARN)\n",
      "/home/ubuntu/.local/lib/python3.7/site-packages/libpysal/cg/alpha_shapes.py:117: RuntimeWarning: invalid value encountered in sqrt\n",
      "  den = np.sqrt((ab + bc + ca) * (bc + ca - ab) * (ca + ab - bc) * (ab + bc - ca))\n"
     ]
    },
    {
     "name": "stdout",
     "output_type": "stream",
     "text": [
      "16 [7, 9]\n",
      "[-1  0  1  2  3  4  5  6  7  8  9 10 11 12 13 14 15 16 17 18 19 20 21 22\n",
      " 23 24 25 26 27 28 29 30 31 32 33 34 35]\n"
     ]
    },
    {
     "name": "stderr",
     "output_type": "stream",
     "text": [
      "/home/ubuntu/.local/lib/python3.7/site-packages/libpysal/cg/alpha_shapes.py:574: UserWarning: Numba not imported, so alpha shape construction may be slower than expected.\n",
      "  warn(NUMBA_WARN)\n",
      "/home/ubuntu/.local/lib/python3.7/site-packages/libpysal/cg/alpha_shapes.py:117: RuntimeWarning: invalid value encountered in sqrt\n",
      "  den = np.sqrt((ab + bc + ca) * (bc + ca - ab) * (ca + ab - bc) * (ab + bc - ca))\n"
     ]
    },
    {
     "name": "stdout",
     "output_type": "stream",
     "text": [
      "17 [9, 12]\n",
      "[-1  0  1  2  3  4  5  6  7  8  9 10 11 12 13 14 15 16 17 18 19 20 21 22\n",
      " 23 24 25 26 27 28 29 30 31 32 33 34 35]\n"
     ]
    },
    {
     "name": "stderr",
     "output_type": "stream",
     "text": [
      "/home/ubuntu/.local/lib/python3.7/site-packages/libpysal/cg/alpha_shapes.py:574: UserWarning: Numba not imported, so alpha shape construction may be slower than expected.\n",
      "  warn(NUMBA_WARN)\n"
     ]
    },
    {
     "name": "stdout",
     "output_type": "stream",
     "text": [
      "18 [12, 20]\n",
      "[-1  0  1  2  3  4  5  6  7  8  9 10 11 12 13 14 15 16 17 18 19 20 21 22\n",
      " 23 24 25 26 27 28 29 30 31 32 33 34 35 36 37 38]\n"
     ]
    },
    {
     "name": "stderr",
     "output_type": "stream",
     "text": [
      "/home/ubuntu/.local/lib/python3.7/site-packages/libpysal/cg/alpha_shapes.py:574: UserWarning: Numba not imported, so alpha shape construction may be slower than expected.\n",
      "  warn(NUMBA_WARN)\n",
      "/home/ubuntu/.local/lib/python3.7/site-packages/libpysal/cg/alpha_shapes.py:117: RuntimeWarning: invalid value encountered in sqrt\n",
      "  den = np.sqrt((ab + bc + ca) * (bc + ca - ab) * (ca + ab - bc) * (ab + bc - ca))\n"
     ]
    },
    {
     "name": "stdout",
     "output_type": "stream",
     "text": [
      "19 [20, 168]\n",
      "[-1  0  1  2  3  4  5  6  7  8  9 10]\n"
     ]
    },
    {
     "name": "stderr",
     "output_type": "stream",
     "text": [
      "/home/ubuntu/.local/lib/python3.7/site-packages/libpysal/cg/alpha_shapes.py:574: UserWarning: Numba not imported, so alpha shape construction may be slower than expected.\n",
      "  warn(NUMBA_WARN)\n",
      "/home/ubuntu/.local/lib/python3.7/site-packages/libpysal/cg/alpha_shapes.py:117: RuntimeWarning: invalid value encountered in sqrt\n",
      "  den = np.sqrt((ab + bc + ca) * (bc + ca - ab) * (ca + ab - bc) * (ab + bc - ca))\n"
     ]
    }
   ],
   "source": [
    "from sklearn.cluster import DBSCAN\n",
    "\n",
    "results = {}\n",
    "color = {0: '#0000FF', 1: '#0000FF', 2: '#0000FF', 3: '#0000FF',\n",
    "         4: '#0000FF', 5: '#0000FF', 6: '#0000FF', 7: '#FFFF00',\n",
    "         8: '#FFFF00', 9: '#FFFF00', 10: '#FFFF00', 11: '#FFFF00',\n",
    "         12: '#FFFF00', 13: '#FF0000', 14: '#FF0000', 15: '#FF0000',\n",
    "         16: '#FF0000', 17: '#FF0000', 18: '#FF0000', 19: '#FF0000'}\n",
    "\n",
    "already_processed = set()\n",
    "for i in range(len(boundaries)):\n",
    "    print(i, boundaries[i])\n",
    "    \n",
    "    if (boundaries[i][1] - boundaries[i][0]) < 1:\n",
    "        continue\n",
    "        \n",
    "    if str(boundaries[i]) in already_processed:\n",
    "        continue\n",
    "        \n",
    "    dbscan = DBSCAN(eps=0.005, min_samples=3)\n",
    "    filtered_df = df[(df[2] >= boundaries[i][0]) & (df[2] < boundaries[i][1])]\n",
    "    filtered_df_index = filtered_df.index\n",
    "    clustering = dbscan.fit(filtered_df[[0,1]].values)\n",
    "\n",
    "    labels = np.full(shape=df.shape[0], fill_value=-1)\n",
    "    for no in range(len(clustering.labels_)):\n",
    "        labels[filtered_df_index[no]] = clustering.labels_[no]\n",
    "        \n",
    "    print(np.unique(labels))\n",
    "    \n",
    "    polys, ys, totals = get_cluster_boundary(pd.Series(labels), db, db[2], crs=db.crs)\n",
    "    polys = polys.to_crs('crs')\n",
    "\n",
    "    polygons = []\n",
    "    for k in range(len(polys)):\n",
    "        polygons_ = []\n",
    "        x, y = polys.iloc[k].exterior.coords.xy\n",
    "        for x_, y_ in zip(x, y):\n",
    "            polygons_.append({'lat': y_, 'lng': x_})\n",
    "        polygons.append(polygons_)\n",
    "\n",
    "    results[i] = {'polygons': polygons, 'data': [ys, totals], 'color': color[i]}\n",
    "    already_processed.add(str(boundaries))"
   ]
  },
  {
   "cell_type": "code",
   "execution_count": 10,
   "id": "6a19ab4d",
   "metadata": {},
   "outputs": [
    {
     "data": {
      "text/plain": [
       "dict_keys([8, 10, 12, 14, 15, 16, 17, 18, 19])"
      ]
     },
     "execution_count": 10,
     "metadata": {},
     "output_type": "execute_result"
    }
   ],
   "source": [
    "results.keys()"
   ]
  },
  {
   "cell_type": "code",
   "execution_count": 11,
   "id": "9cd712bb",
   "metadata": {},
   "outputs": [],
   "source": [
    "with open('data/kedah.json', 'w') as fopen:\n",
    "    json.dump(results, fopen)"
   ]
  },
  {
   "cell_type": "code",
   "execution_count": null,
   "id": "5e80854f",
   "metadata": {},
   "outputs": [],
   "source": []
  }
 ],
 "metadata": {
  "kernelspec": {
   "display_name": "Python 3",
   "language": "python",
   "name": "python3"
  },
  "language_info": {
   "codemirror_mode": {
    "name": "ipython",
    "version": 3
   },
   "file_extension": ".py",
   "mimetype": "text/x-python",
   "name": "python",
   "nbconvert_exporter": "python",
   "pygments_lexer": "ipython3",
   "version": "3.7.10"
  }
 },
 "nbformat": 4,
 "nbformat_minor": 5
}
