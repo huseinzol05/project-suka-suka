{
 "cells": [
  {
   "cell_type": "code",
   "execution_count": 1,
   "id": "e9d49db2",
   "metadata": {},
   "outputs": [],
   "source": [
    "import requests\n",
    "import json\n",
    "from bs4 import BeautifulSoup\n",
    "from tqdm import tqdm"
   ]
  },
  {
   "cell_type": "code",
   "execution_count": 8,
   "id": "4ba7429e",
   "metadata": {},
   "outputs": [],
   "source": [
    "with open('The Special Committee On COVID-19 Vaccine Supply (JKJAV).html') as fopen:\n",
    "    content = fopen.read()\n",
    "soup = BeautifulSoup(content, 'html.parser')"
   ]
  },
  {
   "cell_type": "code",
   "execution_count": 11,
   "id": "b0541b16",
   "metadata": {},
   "outputs": [
    {
     "data": {
      "text/plain": [
       "639"
      ]
     },
     "execution_count": 11,
     "metadata": {},
     "output_type": "execute_result"
    }
   ],
   "source": [
    "centers = soup.find_all('span','fontb')\n",
    "len(centers)"
   ]
  },
  {
   "cell_type": "code",
   "execution_count": 12,
   "id": "1ac3507d",
   "metadata": {},
   "outputs": [
    {
     "data": {
      "text/plain": [
       "[<span class=\"fontb\">360 Club Eco Hill</span>,\n",
       " <span class=\"fontb\">AMC Medical Clinic</span>]"
      ]
     },
     "execution_count": 12,
     "metadata": {},
     "output_type": "execute_result"
    }
   ],
   "source": [
    "centers[:2]"
   ]
  },
  {
   "cell_type": "code",
   "execution_count": 14,
   "id": "f0ea9f20",
   "metadata": {},
   "outputs": [
    {
     "data": {
      "text/plain": [
       "'360 Club Eco Hill'"
      ]
     },
     "execution_count": 14,
     "metadata": {},
     "output_type": "execute_result"
    }
   ],
   "source": [
    "centers[0].text"
   ]
  },
  {
   "cell_type": "code",
   "execution_count": 20,
   "id": "cd313d7f",
   "metadata": {},
   "outputs": [
    {
     "name": "stderr",
     "output_type": "stream",
     "text": [
      "100%|██████████| 639/639 [09:16<00:00,  1.15it/s]\n"
     ]
    }
   ],
   "source": [
    "results = []\n",
    "for row in tqdm(centers):\n",
    "    url = f'https://nominatim.openstreetmap.org/search?q={row.text}&countrycodes=my&format=jsonv2'\n",
    "    r = requests.get(url).json()\n",
    "    results.append(r)"
   ]
  },
  {
   "cell_type": "code",
   "execution_count": 25,
   "id": "d90c03d2",
   "metadata": {},
   "outputs": [
    {
     "data": {
      "text/plain": [
       "[<span class=\"fontb\">360 Club Eco Hill</span>,\n",
       " <span class=\"fontb\">AMC Medical Clinic</span>,\n",
       " <span class=\"fontb\">Auditorium BDA, Wisma BDA</span>,\n",
       " <span class=\"fontb\">Auditorium BDA, Wisma Bintulu</span>,\n",
       " <span class=\"fontb\">Austin International Convention Centre - AICC</span>,\n",
       " <span class=\"fontb\">Axiata Arena Bukit Jalil</span>,\n",
       " <span class=\"fontb\">Balai Raya Felda Chiku 5</span>,\n",
       " <span class=\"fontb\">Balai Raya Sebauh</span>,\n",
       " <span class=\"fontb\">Bangi Avenue Convention Center [BACC]</span>,\n",
       " <span class=\"fontb\">Bangi Convention Centre (BCC), Seksyen 14 BBB</span>]"
      ]
     },
     "execution_count": 25,
     "metadata": {},
     "output_type": "execute_result"
    }
   ],
   "source": [
    "centers[:10]"
   ]
  },
  {
   "cell_type": "code",
   "execution_count": 30,
   "id": "8f531b90",
   "metadata": {},
   "outputs": [],
   "source": [
    "with open('vaccine-centers.json', 'w') as fopen:\n",
    "    json.dump(results, fopen)"
   ]
  },
  {
   "cell_type": "code",
   "execution_count": null,
   "id": "d9228407",
   "metadata": {},
   "outputs": [],
   "source": []
  }
 ],
 "metadata": {
  "kernelspec": {
   "display_name": "Python 3",
   "language": "python",
   "name": "python3"
  },
  "language_info": {
   "codemirror_mode": {
    "name": "ipython",
    "version": 3
   },
   "file_extension": ".py",
   "mimetype": "text/x-python",
   "name": "python",
   "nbconvert_exporter": "python",
   "pygments_lexer": "ipython3",
   "version": "3.7.10"
  }
 },
 "nbformat": 4,
 "nbformat_minor": 5
}
