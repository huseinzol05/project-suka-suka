{
 "cells": [
  {
   "cell_type": "code",
   "execution_count": 1,
   "id": "e9d49db2",
   "metadata": {},
   "outputs": [],
   "source": [
    "import requests\n",
    "import json\n",
    "from bs4 import BeautifulSoup\n",
    "from tqdm import tqdm\n",
    "import time"
   ]
  },
  {
   "cell_type": "code",
   "execution_count": 2,
   "id": "3befcf2e",
   "metadata": {},
   "outputs": [],
   "source": [
    "with open('The Special Committee On COVID-19 Vaccine Supply (JKJAV).html') as fopen:\n",
    "    content = fopen.read()\n",
    "soup = BeautifulSoup(content, 'html.parser')"
   ]
  },
  {
   "cell_type": "code",
   "execution_count": 3,
   "id": "af95bd85",
   "metadata": {},
   "outputs": [
    {
     "data": {
      "text/plain": [
       "639"
      ]
     },
     "execution_count": 3,
     "metadata": {},
     "output_type": "execute_result"
    }
   ],
   "source": [
    "centers = soup.find_all('span','fontb')\n",
    "len(centers)"
   ]
  },
  {
   "cell_type": "code",
   "execution_count": 4,
   "id": "f451838d",
   "metadata": {},
   "outputs": [
    {
     "data": {
      "text/plain": [
       "[<span class=\"fontb\">360 Club Eco Hill</span>,\n",
       " <span class=\"fontb\">AMC Medical Clinic</span>]"
      ]
     },
     "execution_count": 4,
     "metadata": {},
     "output_type": "execute_result"
    }
   ],
   "source": [
    "centers[:2]"
   ]
  },
  {
   "cell_type": "code",
   "execution_count": 5,
   "id": "c4a640a8",
   "metadata": {},
   "outputs": [
    {
     "data": {
      "text/plain": [
       "'360 Club Eco Hill'"
      ]
     },
     "execution_count": 5,
     "metadata": {},
     "output_type": "execute_result"
    }
   ],
   "source": [
    "centers[0].text"
   ]
  },
  {
   "cell_type": "code",
   "execution_count": 6,
   "id": "02937569",
   "metadata": {},
   "outputs": [],
   "source": [
    "import googlemaps\n",
    "gmaps = googlemaps.Client(key='')"
   ]
  },
  {
   "cell_type": "code",
   "execution_count": 15,
   "id": "cd313d7f",
   "metadata": {},
   "outputs": [
    {
     "name": "stderr",
     "output_type": "stream",
     "text": [
      "100%|██████████| 639/639 [08:00<00:00,  1.33it/s]\n"
     ]
    }
   ],
   "source": [
    "results = []\n",
    "for row in tqdm(centers):\n",
    "    while True:\n",
    "        try:\n",
    "            r = gmaps.geocode(row.text.title(), \n",
    "                      components = {'country': 'MY'})\n",
    "            break\n",
    "        except Exception as e:\n",
    "            time.sleep(2)\n",
    "    results.append(r)"
   ]
  },
  {
   "cell_type": "code",
   "execution_count": 37,
   "id": "88ba0e78",
   "metadata": {},
   "outputs": [],
   "source": [
    "texts = [row.text.title() for row in centers]"
   ]
  },
  {
   "cell_type": "code",
   "execution_count": 40,
   "id": "d0796ddc",
   "metadata": {},
   "outputs": [
    {
     "data": {
      "text/plain": [
       "(639, 639)"
      ]
     },
     "execution_count": 40,
     "metadata": {},
     "output_type": "execute_result"
    }
   ],
   "source": [
    "len(results), len(texts)"
   ]
  },
  {
   "cell_type": "code",
   "execution_count": 39,
   "id": "8f531b90",
   "metadata": {},
   "outputs": [],
   "source": [
    "with open('vaccine-centers.json', 'w') as fopen:\n",
    "    json.dump([results, texts], fopen)"
   ]
  },
  {
   "cell_type": "code",
   "execution_count": 32,
   "id": "da9faf6f",
   "metadata": {},
   "outputs": [],
   "source": [
    "with open('hospitals.json') as fopen:\n",
    "    d = json.load(fopen)"
   ]
  },
  {
   "cell_type": "code",
   "execution_count": null,
   "id": "8a52934d",
   "metadata": {},
   "outputs": [],
   "source": []
  }
 ],
 "metadata": {
  "kernelspec": {
   "display_name": "Python 3",
   "language": "python",
   "name": "python3"
  },
  "language_info": {
   "codemirror_mode": {
    "name": "ipython",
    "version": 3
   },
   "file_extension": ".py",
   "mimetype": "text/x-python",
   "name": "python",
   "nbconvert_exporter": "python",
   "pygments_lexer": "ipython3",
   "version": "3.7.10"
  }
 },
 "nbformat": 4,
 "nbformat_minor": 5
}
