{
 "cells": [
  {
   "cell_type": "code",
   "execution_count": 1,
   "id": "e9d49db2",
   "metadata": {},
   "outputs": [],
   "source": [
    "import requests\n",
    "import json\n",
    "from bs4 import BeautifulSoup\n",
    "from tqdm import tqdm"
   ]
  },
  {
   "cell_type": "code",
   "execution_count": 8,
   "id": "5718e72e",
   "metadata": {},
   "outputs": [],
   "source": [
    "with open('The Special Committee On COVID-19 Vaccine Supply (JKJAV).html') as fopen:\n",
    "    content = fopen.read()\n",
    "soup = BeautifulSoup(content, 'html.parser')"
   ]
  },
  {
   "cell_type": "code",
   "execution_count": 11,
   "id": "bf87404f",
   "metadata": {},
   "outputs": [
    {
     "data": {
      "text/plain": [
       "639"
      ]
     },
     "execution_count": 11,
     "metadata": {},
     "output_type": "execute_result"
    }
   ],
   "source": [
    "centers = soup.find_all('span','fontb')\n",
    "len(centers)"
   ]
  },
  {
   "cell_type": "code",
   "execution_count": 12,
   "id": "9cb08c49",
   "metadata": {},
   "outputs": [
    {
     "data": {
      "text/plain": [
       "[<span class=\"fontb\">360 Club Eco Hill</span>,\n",
       " <span class=\"fontb\">AMC Medical Clinic</span>]"
      ]
     },
     "execution_count": 12,
     "metadata": {},
     "output_type": "execute_result"
    }
   ],
   "source": [
    "centers[:2]"
   ]
  },
  {
   "cell_type": "code",
   "execution_count": 14,
   "id": "dd143b1d",
   "metadata": {},
   "outputs": [
    {
     "data": {
      "text/plain": [
       "'360 Club Eco Hill'"
      ]
     },
     "execution_count": 14,
     "metadata": {},
     "output_type": "execute_result"
    }
   ],
   "source": [
    "centers[0].text"
   ]
  },
  {
   "cell_type": "code",
   "execution_count": 17,
   "id": "cd313d7f",
   "metadata": {},
   "outputs": [
    {
     "name": "stderr",
     "output_type": "stream",
     "text": [
      "100%|██████████| 639/639 [10:37<00:00,  1.00it/s]\n"
     ]
    }
   ],
   "source": [
    "results = []\n",
    "for row in tqdm(centers):\n",
    "    url = f'https://nominatim.openstreetmap.org/search?q={centers[0].text}&countrycodes=my&format=jsonv2'\n",
    "    r = requests.get(url).json()\n",
    "    results.append(r)"
   ]
  },
  {
   "cell_type": "code",
   "execution_count": 18,
   "id": "5964466f",
   "metadata": {},
   "outputs": [
    {
     "data": {
      "text/plain": [
       "[{'place_id': 173592333,\n",
       "  'licence': 'Data © OpenStreetMap contributors, ODbL 1.0. https://osm.org/copyright',\n",
       "  'osm_type': 'way',\n",
       "  'osm_id': 342931597,\n",
       "  'boundingbox': ['2.9265256', '2.926758', '101.8552077', '101.8567172'],\n",
       "  'lat': '2.9265256',\n",
       "  'lon': '101.8552077',\n",
       "  'display_name': 'Persiaran Eco Hill, Setia EcoHill, Semenyih, Majlis Perbandaran Kajang, Hulu Langat, Selangor, 43700, Malaysia',\n",
       "  'place_rank': 26,\n",
       "  'category': 'highway',\n",
       "  'type': 'tertiary',\n",
       "  'importance': 0.3},\n",
       " {'place_id': 170261980,\n",
       "  'licence': 'Data © OpenStreetMap contributors, ODbL 1.0. https://osm.org/copyright',\n",
       "  'osm_type': 'way',\n",
       "  'osm_id': 342931598,\n",
       "  'boundingbox': ['2.926056', '2.9263548', '101.8531284', '101.8534272'],\n",
       "  'lat': '2.9261961',\n",
       "  'lon': '101.85327850139527',\n",
       "  'display_name': 'Persiaran Eco Hill, Setia EcoHill, Semenyih, Majlis Perbandaran Kajang, Hulu Langat, Selangor, Malaysia',\n",
       "  'place_rank': 26,\n",
       "  'category': 'highway',\n",
       "  'type': 'tertiary',\n",
       "  'importance': 0.3},\n",
       " {'place_id': 193149002,\n",
       "  'licence': 'Data © OpenStreetMap contributors, ODbL 1.0. https://osm.org/copyright',\n",
       "  'osm_type': 'way',\n",
       "  'osm_id': 448597899,\n",
       "  'boundingbox': ['2.9243295', '2.9252427', '101.8415817', '101.8468741'],\n",
       "  'lat': '2.9248316',\n",
       "  'lon': '101.8443012',\n",
       "  'display_name': 'Persiaran Eco Hill Timur, Setia EcoHill, Semenyih, Majlis Perbandaran Kajang, Hulu Langat, Selangor, 43700, Malaysia',\n",
       "  'place_rank': 26,\n",
       "  'category': 'highway',\n",
       "  'type': 'tertiary',\n",
       "  'importance': 0.3},\n",
       " {'place_id': 306891670,\n",
       "  'licence': 'Data © OpenStreetMap contributors, ODbL 1.0. https://osm.org/copyright',\n",
       "  'osm_type': 'way',\n",
       "  'osm_id': 865847599,\n",
       "  'boundingbox': ['2.9289408', '2.92905', '101.8942849', '101.8969497'],\n",
       "  'lat': '2.9289901',\n",
       "  'lon': '101.8957468',\n",
       "  'display_name': 'Jalan Eco Forest 1/1F, Majlis Perbandaran Kajang, Hulu Langat, Selangor, 71750, Malaysia',\n",
       "  'place_rank': 26,\n",
       "  'category': 'highway',\n",
       "  'type': 'residential',\n",
       "  'importance': 0.19999999999999998},\n",
       " {'place_id': 306891669,\n",
       "  'licence': 'Data © OpenStreetMap contributors, ODbL 1.0. https://osm.org/copyright',\n",
       "  'osm_type': 'way',\n",
       "  'osm_id': 865847598,\n",
       "  'boundingbox': ['2.928327', '2.9284436', '101.8942065', '101.8971956'],\n",
       "  'lat': '2.9283771',\n",
       "  'lon': '101.8957357',\n",
       "  'display_name': 'Jalan Eco Forest 1/1E, Majlis Perbandaran Kajang, Hulu Langat, Selangor, 71750, Malaysia',\n",
       "  'place_rank': 26,\n",
       "  'category': 'highway',\n",
       "  'type': 'residential',\n",
       "  'importance': 0.19999999999999998},\n",
       " {'place_id': 235514120,\n",
       "  'licence': 'Data © OpenStreetMap contributors, ODbL 1.0. https://osm.org/copyright',\n",
       "  'osm_type': 'way',\n",
       "  'osm_id': 749167806,\n",
       "  'boundingbox': ['2.9028347', '2.9046991', '101.8453125', '101.8508644'],\n",
       "  'lat': '2.9042138',\n",
       "  'lon': '101.8479544',\n",
       "  'display_name': 'Jalan Eco Majestic 3A/5, Eco Majestic, Majlis Perbandaran Kajang, Hulu Langat, Selangor, 43700, Malaysia',\n",
       "  'place_rank': 26,\n",
       "  'category': 'highway',\n",
       "  'type': 'residential',\n",
       "  'importance': 0.19999999999999998},\n",
       " {'place_id': 306891966,\n",
       "  'licence': 'Data © OpenStreetMap contributors, ODbL 1.0. https://osm.org/copyright',\n",
       "  'osm_type': 'way',\n",
       "  'osm_id': 913703091,\n",
       "  'boundingbox': ['2.9270641', '2.9271762', '101.8976953', '101.9006601'],\n",
       "  'lat': '2.9271344',\n",
       "  'lon': '101.8987053',\n",
       "  'display_name': 'Jalan Eco Forest 1/2C, Majlis Perbandaran Kajang, Hulu Langat, Selangor, 71750, Malaysia',\n",
       "  'place_rank': 26,\n",
       "  'category': 'highway',\n",
       "  'type': 'residential',\n",
       "  'importance': 0.19999999999999998},\n",
       " {'place_id': 306891668,\n",
       "  'licence': 'Data © OpenStreetMap contributors, ODbL 1.0. https://osm.org/copyright',\n",
       "  'osm_type': 'way',\n",
       "  'osm_id': 865847597,\n",
       "  'boundingbox': ['2.927792', '2.9279103', '101.8941892', '101.8972135'],\n",
       "  'lat': '2.9278502',\n",
       "  'lon': '101.8957265',\n",
       "  'display_name': 'Jalan Eco Forest 1/1D, Majlis Perbandaran Kajang, Hulu Langat, Selangor, 71750, Malaysia',\n",
       "  'place_rank': 26,\n",
       "  'category': 'highway',\n",
       "  'type': 'residential',\n",
       "  'importance': 0.19999999999999998},\n",
       " {'place_id': 306891666,\n",
       "  'licence': 'Data © OpenStreetMap contributors, ODbL 1.0. https://osm.org/copyright',\n",
       "  'osm_type': 'way',\n",
       "  'osm_id': 865847595,\n",
       "  'boundingbox': ['2.9260408', '2.928736', '101.8986375', '101.8987468'],\n",
       "  'lat': '2.9271344',\n",
       "  'lon': '101.8987053',\n",
       "  'display_name': 'Jalan Eco Forest 1/2G, Majlis Perbandaran Kajang, Hulu Langat, Selangor, 71750, Malaysia',\n",
       "  'place_rank': 26,\n",
       "  'category': 'highway',\n",
       "  'type': 'residential',\n",
       "  'importance': 0.19999999999999998},\n",
       " {'place_id': 306891667,\n",
       "  'licence': 'Data © OpenStreetMap contributors, ODbL 1.0. https://osm.org/copyright',\n",
       "  'osm_type': 'way',\n",
       "  'osm_id': 865847596,\n",
       "  'boundingbox': ['2.9271783', '2.9272962', '101.8942029', '101.8972531'],\n",
       "  'lat': '2.9272418',\n",
       "  'lon': '101.8957159',\n",
       "  'display_name': 'Jalan Eco Forest 1/1C, Majlis Perbandaran Kajang, Hulu Langat, Selangor, 71750, Malaysia',\n",
       "  'place_rank': 26,\n",
       "  'category': 'highway',\n",
       "  'type': 'residential',\n",
       "  'importance': 0.19999999999999998}]"
      ]
     },
     "execution_count": 18,
     "metadata": {},
     "output_type": "execute_result"
    }
   ],
   "source": [
    "results[0]"
   ]
  },
  {
   "cell_type": "code",
   "execution_count": 19,
   "id": "8f531b90",
   "metadata": {},
   "outputs": [],
   "source": [
    "with open('vaccine-centers.json', 'w') as fopen:\n",
    "    json.dump(results, fopen)"
   ]
  },
  {
   "cell_type": "code",
   "execution_count": null,
   "id": "a0b168ad",
   "metadata": {},
   "outputs": [],
   "source": []
  }
 ],
 "metadata": {
  "kernelspec": {
   "display_name": "Python 3",
   "language": "python",
   "name": "python3"
  },
  "language_info": {
   "codemirror_mode": {
    "name": "ipython",
    "version": 3
   },
   "file_extension": ".py",
   "mimetype": "text/x-python",
   "name": "python",
   "nbconvert_exporter": "python",
   "pygments_lexer": "ipython3",
   "version": "3.7.10"
  }
 },
 "nbformat": 4,
 "nbformat_minor": 5
}
