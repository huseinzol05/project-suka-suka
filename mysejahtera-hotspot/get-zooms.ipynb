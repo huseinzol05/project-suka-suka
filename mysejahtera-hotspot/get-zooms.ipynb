{
 "cells": [
  {
   "cell_type": "code",
   "execution_count": 4,
   "id": "established-teaching",
   "metadata": {},
   "outputs": [],
   "source": [
    "import json\n",
    "import numpy as np\n",
    "import geojson\n",
    "from shapely.geometry import mapping, shape, MultiPoint\n",
    "\n",
    "with open('data/malaysia.geojson') as fopen:\n",
    "    malaysia = json.load(fopen)"
   ]
  },
  {
   "cell_type": "code",
   "execution_count": 5,
   "id": "general-staff",
   "metadata": {},
   "outputs": [
    {
     "data": {
      "text/plain": [
       "dict_keys(['Federal Territory of Kuala Lumpur', 'Perlis', 'Sabah', 'Federal Territory of Putrajaya', 'Kedah', 'Sarawak', 'Penang', 'Johor', 'Kelantan', 'Melaka', 'Negeri Sembilan', 'Pahang', 'Perak', 'Selangor', 'Terengganu'])"
      ]
     },
     "execution_count": 5,
     "metadata": {},
     "output_type": "execute_result"
    }
   ],
   "source": [
    "negeri = {k['properties']['name']:k['geometry'] for k in malaysia['features']}\n",
    "negeri.keys()"
   ]
  },
  {
   "cell_type": "code",
   "execution_count": 23,
   "id": "solar-monroe",
   "metadata": {},
   "outputs": [
    {
     "data": {
      "text/plain": [
       "0.2218299140789996"
      ]
     },
     "execution_count": 23,
     "metadata": {},
     "output_type": "execute_result"
    }
   ],
   "source": [
    "# i like 11.5 for kl\n",
    "kl_zoom = 11.5\n",
    "\n",
    "s = json.dumps(negeri['Federal Territory of Kuala Lumpur'])\n",
    "g1 = geojson.loads(s)\n",
    "polygon = shape(g1)\n",
    "kl_area = polygon.area\n",
    "# zoom = k / area\n",
    "k = kl_area * kl_zoom\n",
    "k"
   ]
  },
  {
   "cell_type": "code",
   "execution_count": 24,
   "id": "conservative-seeker",
   "metadata": {},
   "outputs": [
    {
     "name": "stdout",
     "output_type": "stream",
     "text": [
      "Federal Territory of Kuala Lumpur 11.5\n",
      "Perlis 3.335956932675841\n",
      "Sabah 0.036967904388975584\n",
      "Federal Territory of Putrajaya 58.9962286387567\n",
      "Kedah 0.3011771716223806\n",
      "Sarawak 0.02194811270883536\n",
      "Penang 2.637139212755633\n",
      "Johor 0.14403463131115624\n",
      "Kelantan 0.18088270841561174\n",
      "Melaka 1.6367995315731232\n",
      "Negeri Sembilan 0.4087957551120224\n",
      "Pahang 0.07591063642669843\n",
      "Perak 0.13028034682387235\n",
      "Selangor 0.34908692179811773\n",
      "Terengganu 0.2110766527387409\n"
     ]
    }
   ],
   "source": [
    "for n in negeri:\n",
    "    s = json.dumps(negeri[n])\n",
    "    g1 = geojson.loads(s)\n",
    "    polygon = shape(g1)\n",
    "    print(n, k / float(polygon.area))"
   ]
  },
  {
   "cell_type": "code",
   "execution_count": null,
   "id": "underlying-jones",
   "metadata": {},
   "outputs": [],
   "source": []
  }
 ],
 "metadata": {
  "kernelspec": {
   "display_name": "Python 3",
   "language": "python",
   "name": "python3"
  },
  "language_info": {
   "codemirror_mode": {
    "name": "ipython",
    "version": 3
   },
   "file_extension": ".py",
   "mimetype": "text/x-python",
   "name": "python",
   "nbconvert_exporter": "python",
   "pygments_lexer": "ipython3",
   "version": "3.7.7"
  }
 },
 "nbformat": 4,
 "nbformat_minor": 5
}
