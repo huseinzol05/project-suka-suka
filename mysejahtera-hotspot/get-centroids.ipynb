{
 "cells": [
  {
   "cell_type": "code",
   "execution_count": 7,
   "id": "established-teaching",
   "metadata": {},
   "outputs": [],
   "source": [
    "import json\n",
    "import numpy as np\n",
    "\n",
    "with open('data/malaysia.geojson') as fopen:\n",
    "    malaysia = json.load(fopen)"
   ]
  },
  {
   "cell_type": "code",
   "execution_count": 10,
   "id": "general-staff",
   "metadata": {},
   "outputs": [
    {
     "data": {
      "text/plain": [
       "dict_keys(['Federal Territory of Kuala Lumpur', 'Perlis', 'Sabah', 'Federal Territory of Putrajaya', 'Kedah', 'Sarawak', 'Penang', 'Johor', 'Kelantan', 'Melaka', 'Negeri Sembilan', 'Pahang', 'Perak', 'Selangor', 'Terengganu'])"
      ]
     },
     "execution_count": 10,
     "metadata": {},
     "output_type": "execute_result"
    }
   ],
   "source": [
    "negeri = {k['properties']['name']:\n",
    "          np.array(k['geometry']['coordinates'][0][0]) for k in malaysia['features']}\n",
    "negeri.keys()"
   ]
  },
  {
   "cell_type": "code",
   "execution_count": 17,
   "id": "conservative-seeker",
   "metadata": {},
   "outputs": [
    {
     "name": "stdout",
     "output_type": "stream",
     "text": [
      "Federal Territory of Kuala Lumpur [3.1392120930232563, 101.69246448837208]\n",
      "Perlis [6.524751999999999, 100.22751252631578]\n",
      "Sabah [5.27816915, 116.97592164999999]\n",
      "Federal Territory of Putrajaya [2.933356648648649, 101.68667875675675]\n",
      "Kedah [5.861430566265059, 100.67029332530122]\n",
      "Sarawak [2.738490452054794, 113.39022178082192]\n",
      "Penang [5.326611172413791, 100.41983951724136]\n",
      "Johor [1.891816231746032, 103.49781690793652]\n",
      "Kelantan [5.199608448780487, 102.06351577073173]\n",
      "Melaka [2.290535240310077, 102.30847203100777]\n",
      "Negeri Sembilan [2.618115251655629, 102.08174941721853]\n",
      "Pahang [4.071478952606635, 102.32340633175355]\n",
      "Perak [4.733874, 101.14707000581394]\n",
      "Selangor [3.355404307017544, 101.50504664035088]\n",
      "Terengganu [4.825278525714285, 102.89730278285715]\n"
     ]
    }
   ],
   "source": [
    "for k in negeri:\n",
    "    print(k, negeri[k][:,[1,0]].mean(axis = 0).tolist())"
   ]
  },
  {
   "cell_type": "code",
   "execution_count": null,
   "id": "handled-nightmare",
   "metadata": {},
   "outputs": [],
   "source": []
  }
 ],
 "metadata": {
  "kernelspec": {
   "display_name": "Python 3",
   "language": "python",
   "name": "python3"
  },
  "language_info": {
   "codemirror_mode": {
    "name": "ipython",
    "version": 3
   },
   "file_extension": ".py",
   "mimetype": "text/x-python",
   "name": "python",
   "nbconvert_exporter": "python",
   "pygments_lexer": "ipython3",
   "version": "3.7.7"
  }
 },
 "nbformat": 4,
 "nbformat_minor": 5
}
