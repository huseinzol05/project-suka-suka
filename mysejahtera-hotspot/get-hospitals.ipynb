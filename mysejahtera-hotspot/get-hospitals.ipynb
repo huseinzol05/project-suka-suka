{
 "cells": [
  {
   "cell_type": "code",
   "execution_count": 48,
   "id": "e9d49db2",
   "metadata": {},
   "outputs": [],
   "source": [
    "import requests\n",
    "import json\n",
    "from bs4 import BeautifulSoup\n",
    "from tqdm import tqdm"
   ]
  },
  {
   "cell_type": "code",
   "execution_count": 17,
   "id": "dcdaf6e5",
   "metadata": {},
   "outputs": [],
   "source": [
    "r = requests.get('https://www.moh.gov.my/index.php/database_stores/store_view/3?items=1000&page=1')\n",
    "soup = BeautifulSoup(r._content, 'html.parser')"
   ]
  },
  {
   "cell_type": "code",
   "execution_count": 19,
   "id": "967ccddc",
   "metadata": {},
   "outputs": [],
   "source": [
    "data = []\n",
    "table = soup.find('table', attrs={'class':'view_page_list_table dt-responsive'})\n",
    "table_body = table.find('tbody')\n",
    "\n",
    "rows = table_body.find_all('tr')\n",
    "for row in rows:\n",
    "    cols = row.find_all('td')\n",
    "    cols = [ele.text.strip() for ele in cols]\n",
    "    data.append([ele for ele in cols if ele])"
   ]
  },
  {
   "cell_type": "code",
   "execution_count": 49,
   "id": "cd313d7f",
   "metadata": {},
   "outputs": [
    {
     "name": "stderr",
     "output_type": "stream",
     "text": [
      "100%|██████████| 145/145 [02:05<00:00,  1.16it/s]\n"
     ]
    }
   ],
   "source": [
    "results = []\n",
    "for row in tqdm(data):\n",
    "    url = f'https://nominatim.openstreetmap.org/search?q={row[1]}&countrycodes=my&format=jsonv2'\n",
    "    r = requests.get(url).json()\n",
    "    results.append(r)"
   ]
  },
  {
   "cell_type": "code",
   "execution_count": 50,
   "id": "5964466f",
   "metadata": {},
   "outputs": [
    {
     "data": {
      "text/plain": [
       "[{'place_id': 316395236,\n",
       "  'licence': 'Data © OpenStreetMap contributors, ODbL 1.0. https://osm.org/copyright',\n",
       "  'osm_type': 'way',\n",
       "  'osm_id': 943368246,\n",
       "  'boundingbox': ['2.3945127', '2.3986331', '102.1987529', '102.2035082'],\n",
       "  'lat': '2.3969616',\n",
       "  'lon': '102.20065159546004',\n",
       "  'display_name': 'Hospital Alor Gajah, Lebuh AMJ, Pengkalan, Simpang Empat, Alor Gajah, Melaka, 78000, Malaysia',\n",
       "  'place_rank': 30,\n",
       "  'category': 'amenity',\n",
       "  'type': 'hospital',\n",
       "  'importance': 0.30100000000000005,\n",
       "  'icon': 'https://nominatim.openstreetmap.org/ui/mapicons//health_hospital.p.20.png'}]"
      ]
     },
     "execution_count": 50,
     "metadata": {},
     "output_type": "execute_result"
    }
   ],
   "source": [
    "results[0]"
   ]
  },
  {
   "cell_type": "code",
   "execution_count": 51,
   "id": "8f531b90",
   "metadata": {},
   "outputs": [],
   "source": [
    "with open('hospitals.json', 'w') as fopen:\n",
    "    json.dump(results, fopen)"
   ]
  }
 ],
 "metadata": {
  "kernelspec": {
   "display_name": "Python 3",
   "language": "python",
   "name": "python3"
  },
  "language_info": {
   "codemirror_mode": {
    "name": "ipython",
    "version": 3
   },
   "file_extension": ".py",
   "mimetype": "text/x-python",
   "name": "python",
   "nbconvert_exporter": "python",
   "pygments_lexer": "ipython3",
   "version": "3.7.10"
  }
 },
 "nbformat": 4,
 "nbformat_minor": 5
}
